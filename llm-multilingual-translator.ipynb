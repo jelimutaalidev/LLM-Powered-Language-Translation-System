{
  "cells": [
    {
      "cell_type": "markdown",
      "source": [
        "# 🌐✨ **AI-Powered Language Translator with Gemini 1.5**\n",
        "\n",
        "Welcome to the **AI-Powered Language Translator** project!  \n",
        "This solution leverages the power of **🔮 Google Gemini 1.5 Flash** for real-time language translation.  \n",
        "We integrate **LangChain** for smart orchestration and **Gradio** to deliver a clean, interactive web interface.\n",
        "\n",
        "💬 Features:\n",
        "- 🌍 Automatic **language detection**\n",
        "- 🔁 Real-time **translation**\n",
        "- 📝 Persistent **translation history**\n",
        "\n",
        "---\n",
        "\n",
        "## 📚 Table of Contents\n",
        "\n",
        "Navigate through the key components of this notebook:\n",
        "\n",
        "1. 🔧 [Installation](#installation)  \n",
        "2. 🔐 [API Key Setup](#api-key-setup)  \n",
        "3. ⚙️ [Environment Setup](#environment-setup)  \n",
        "4. 🌍 [Language Detection & Translation](#language-detection-translation)  \n",
        "5. 🖼️ [Building the UI with Gradio](#building-the-ui-with-gradio)  \n",
        "6. 🚀 [Running the Application](#running-the-application)  \n",
        "7. ✅ [Conclusion](#conclusion)\n",
        "\n",
        "---"
      ],
      "metadata": {
        "id": "R6uYDtHNsIka"
      }
    },
    {
      "cell_type": "markdown",
      "source": [
        "## 📦 1. Installation - Prepare the Environment\n",
        "\n",
        "🔧 Let's start by installing all the essential packages required for this project. This includes tools for:\n",
        "\n",
        "- ✅ Working with Google's Generative AI (`google-generativeai`)\n",
        "- 🔗 Integrating with LangChain (`langchain`, `langchain-google-genai`, `langchain_community`)\n",
        "- 🖼️ Building interfaces with `gradio`\n",
        "- 🌍 Detecting language using `langdetect`\n",
        "\n",
        "> 💡 Note: Make sure you are running this in a Python 3 environment with internet access."
      ],
      "metadata": {
        "id": "9NF7fwGPsjc5"
      }
    },
    {
      "cell_type": "code",
      "source": [
        "!pip install google-generativeai langchain langchain-google-genai langchain_community gradio langdetect"
      ],
      "metadata": {
        "id": "NwjgjbkVsPtb",
        "colab": {
          "base_uri": "https://localhost:8080/"
        },
        "outputId": "2be8835b-6381-40a2-cfc5-78bd12d19c6d"
      },
      "execution_count": null,
      "outputs": [
        {
          "output_type": "stream",
          "name": "stdout",
          "text": [
            "Requirement already satisfied: google-generativeai in /usr/local/lib/python3.11/dist-packages (0.8.5)\n",
            "Requirement already satisfied: langchain in /usr/local/lib/python3.11/dist-packages (0.3.24)\n",
            "Requirement already satisfied: langchain-google-genai in /usr/local/lib/python3.11/dist-packages (2.0.10)\n",
            "Requirement already satisfied: langchain_community in /usr/local/lib/python3.11/dist-packages (0.3.23)\n",
            "Requirement already satisfied: gradio in /usr/local/lib/python3.11/dist-packages (5.29.0)\n",
            "Requirement already satisfied: langdetect in /usr/local/lib/python3.11/dist-packages (1.0.9)\n",
            "Requirement already satisfied: google-ai-generativelanguage==0.6.15 in /usr/local/lib/python3.11/dist-packages (from google-generativeai) (0.6.15)\n",
            "Requirement already satisfied: google-api-core in /usr/local/lib/python3.11/dist-packages (from google-generativeai) (2.24.2)\n",
            "Requirement already satisfied: google-api-python-client in /usr/local/lib/python3.11/dist-packages (from google-generativeai) (2.169.0)\n",
            "Requirement already satisfied: google-auth>=2.15.0 in /usr/local/lib/python3.11/dist-packages (from google-generativeai) (2.38.0)\n",
            "Requirement already satisfied: protobuf in /usr/local/lib/python3.11/dist-packages (from google-generativeai) (5.29.4)\n",
            "Requirement already satisfied: pydantic in /usr/local/lib/python3.11/dist-packages (from google-generativeai) (2.11.4)\n",
            "Requirement already satisfied: tqdm in /usr/local/lib/python3.11/dist-packages (from google-generativeai) (4.67.1)\n",
            "Requirement already satisfied: typing-extensions in /usr/local/lib/python3.11/dist-packages (from google-generativeai) (4.13.2)\n",
            "Requirement already satisfied: proto-plus<2.0.0dev,>=1.22.3 in /usr/local/lib/python3.11/dist-packages (from google-ai-generativelanguage==0.6.15->google-generativeai) (1.26.1)\n",
            "Requirement already satisfied: langchain-core<1.0.0,>=0.3.55 in /usr/local/lib/python3.11/dist-packages (from langchain) (0.3.56)\n",
            "Requirement already satisfied: langchain-text-splitters<1.0.0,>=0.3.8 in /usr/local/lib/python3.11/dist-packages (from langchain) (0.3.8)\n",
            "Requirement already satisfied: langsmith<0.4,>=0.1.17 in /usr/local/lib/python3.11/dist-packages (from langchain) (0.3.39)\n",
            "Requirement already satisfied: SQLAlchemy<3,>=1.4 in /usr/local/lib/python3.11/dist-packages (from langchain) (2.0.40)\n",
            "Requirement already satisfied: requests<3,>=2 in /usr/local/lib/python3.11/dist-packages (from langchain) (2.32.3)\n",
            "Requirement already satisfied: PyYAML>=5.3 in /usr/local/lib/python3.11/dist-packages (from langchain) (6.0.2)\n",
            "Requirement already satisfied: filetype<2.0.0,>=1.2.0 in /usr/local/lib/python3.11/dist-packages (from langchain-google-genai) (1.2.0)\n",
            "Requirement already satisfied: aiohttp<4.0.0,>=3.8.3 in /usr/local/lib/python3.11/dist-packages (from langchain_community) (3.11.15)\n",
            "Requirement already satisfied: tenacity!=8.4.0,<10,>=8.1.0 in /usr/local/lib/python3.11/dist-packages (from langchain_community) (9.1.2)\n",
            "Requirement already satisfied: dataclasses-json<0.7,>=0.5.7 in /usr/local/lib/python3.11/dist-packages (from langchain_community) (0.6.7)\n",
            "Requirement already satisfied: pydantic-settings<3.0.0,>=2.4.0 in /usr/local/lib/python3.11/dist-packages (from langchain_community) (2.9.1)\n",
            "Requirement already satisfied: httpx-sse<1.0.0,>=0.4.0 in /usr/local/lib/python3.11/dist-packages (from langchain_community) (0.4.0)\n",
            "Requirement already satisfied: numpy>=1.26.2 in /usr/local/lib/python3.11/dist-packages (from langchain_community) (2.0.2)\n",
            "Requirement already satisfied: aiofiles<25.0,>=22.0 in /usr/local/lib/python3.11/dist-packages (from gradio) (24.1.0)\n",
            "Requirement already satisfied: anyio<5.0,>=3.0 in /usr/local/lib/python3.11/dist-packages (from gradio) (4.9.0)\n",
            "Requirement already satisfied: fastapi<1.0,>=0.115.2 in /usr/local/lib/python3.11/dist-packages (from gradio) (0.115.12)\n",
            "Requirement already satisfied: ffmpy in /usr/local/lib/python3.11/dist-packages (from gradio) (0.5.0)\n",
            "Requirement already satisfied: gradio-client==1.10.0 in /usr/local/lib/python3.11/dist-packages (from gradio) (1.10.0)\n",
            "Requirement already satisfied: groovy~=0.1 in /usr/local/lib/python3.11/dist-packages (from gradio) (0.1.2)\n",
            "Requirement already satisfied: httpx>=0.24.1 in /usr/local/lib/python3.11/dist-packages (from gradio) (0.28.1)\n",
            "Requirement already satisfied: huggingface-hub>=0.28.1 in /usr/local/lib/python3.11/dist-packages (from gradio) (0.30.2)\n",
            "Requirement already satisfied: jinja2<4.0 in /usr/local/lib/python3.11/dist-packages (from gradio) (3.1.6)\n",
            "Requirement already satisfied: markupsafe<4.0,>=2.0 in /usr/local/lib/python3.11/dist-packages (from gradio) (3.0.2)\n",
            "Requirement already satisfied: orjson~=3.0 in /usr/local/lib/python3.11/dist-packages (from gradio) (3.10.18)\n",
            "Requirement already satisfied: packaging in /usr/local/lib/python3.11/dist-packages (from gradio) (24.2)\n",
            "Requirement already satisfied: pandas<3.0,>=1.0 in /usr/local/lib/python3.11/dist-packages (from gradio) (2.2.2)\n",
            "Requirement already satisfied: pillow<12.0,>=8.0 in /usr/local/lib/python3.11/dist-packages (from gradio) (11.2.1)\n",
            "Requirement already satisfied: pydub in /usr/local/lib/python3.11/dist-packages (from gradio) (0.25.1)\n",
            "Requirement already satisfied: python-multipart>=0.0.18 in /usr/local/lib/python3.11/dist-packages (from gradio) (0.0.20)\n",
            "Requirement already satisfied: ruff>=0.9.3 in /usr/local/lib/python3.11/dist-packages (from gradio) (0.11.8)\n",
            "Requirement already satisfied: safehttpx<0.2.0,>=0.1.6 in /usr/local/lib/python3.11/dist-packages (from gradio) (0.1.6)\n",
            "Requirement already satisfied: semantic-version~=2.0 in /usr/local/lib/python3.11/dist-packages (from gradio) (2.10.0)\n",
            "Requirement already satisfied: starlette<1.0,>=0.40.0 in /usr/local/lib/python3.11/dist-packages (from gradio) (0.46.2)\n",
            "Requirement already satisfied: tomlkit<0.14.0,>=0.12.0 in /usr/local/lib/python3.11/dist-packages (from gradio) (0.13.2)\n",
            "Requirement already satisfied: typer<1.0,>=0.12 in /usr/local/lib/python3.11/dist-packages (from gradio) (0.15.3)\n",
            "Requirement already satisfied: uvicorn>=0.14.0 in /usr/local/lib/python3.11/dist-packages (from gradio) (0.34.2)\n",
            "Requirement already satisfied: fsspec in /usr/local/lib/python3.11/dist-packages (from gradio-client==1.10.0->gradio) (2025.3.2)\n",
            "Requirement already satisfied: websockets<16.0,>=10.0 in /usr/local/lib/python3.11/dist-packages (from gradio-client==1.10.0->gradio) (15.0.1)\n",
            "Requirement already satisfied: six in /usr/local/lib/python3.11/dist-packages (from langdetect) (1.17.0)\n",
            "Requirement already satisfied: aiohappyeyeballs>=2.3.0 in /usr/local/lib/python3.11/dist-packages (from aiohttp<4.0.0,>=3.8.3->langchain_community) (2.6.1)\n",
            "Requirement already satisfied: aiosignal>=1.1.2 in /usr/local/lib/python3.11/dist-packages (from aiohttp<4.0.0,>=3.8.3->langchain_community) (1.3.2)\n",
            "Requirement already satisfied: attrs>=17.3.0 in /usr/local/lib/python3.11/dist-packages (from aiohttp<4.0.0,>=3.8.3->langchain_community) (25.3.0)\n",
            "Requirement already satisfied: frozenlist>=1.1.1 in /usr/local/lib/python3.11/dist-packages (from aiohttp<4.0.0,>=3.8.3->langchain_community) (1.6.0)\n",
            "Requirement already satisfied: multidict<7.0,>=4.5 in /usr/local/lib/python3.11/dist-packages (from aiohttp<4.0.0,>=3.8.3->langchain_community) (6.4.3)\n",
            "Requirement already satisfied: propcache>=0.2.0 in /usr/local/lib/python3.11/dist-packages (from aiohttp<4.0.0,>=3.8.3->langchain_community) (0.3.1)\n",
            "Requirement already satisfied: yarl<2.0,>=1.17.0 in /usr/local/lib/python3.11/dist-packages (from aiohttp<4.0.0,>=3.8.3->langchain_community) (1.20.0)\n",
            "Requirement already satisfied: idna>=2.8 in /usr/local/lib/python3.11/dist-packages (from anyio<5.0,>=3.0->gradio) (3.10)\n",
            "Requirement already satisfied: sniffio>=1.1 in /usr/local/lib/python3.11/dist-packages (from anyio<5.0,>=3.0->gradio) (1.3.1)\n",
            "Requirement already satisfied: marshmallow<4.0.0,>=3.18.0 in /usr/local/lib/python3.11/dist-packages (from dataclasses-json<0.7,>=0.5.7->langchain_community) (3.26.1)\n",
            "Requirement already satisfied: typing-inspect<1,>=0.4.0 in /usr/local/lib/python3.11/dist-packages (from dataclasses-json<0.7,>=0.5.7->langchain_community) (0.9.0)\n",
            "Requirement already satisfied: googleapis-common-protos<2.0.0,>=1.56.2 in /usr/local/lib/python3.11/dist-packages (from google-api-core->google-generativeai) (1.70.0)\n",
            "Requirement already satisfied: cachetools<6.0,>=2.0.0 in /usr/local/lib/python3.11/dist-packages (from google-auth>=2.15.0->google-generativeai) (5.5.2)\n",
            "Requirement already satisfied: pyasn1-modules>=0.2.1 in /usr/local/lib/python3.11/dist-packages (from google-auth>=2.15.0->google-generativeai) (0.4.2)\n",
            "Requirement already satisfied: rsa<5,>=3.1.4 in /usr/local/lib/python3.11/dist-packages (from google-auth>=2.15.0->google-generativeai) (4.9.1)\n",
            "Requirement already satisfied: certifi in /usr/local/lib/python3.11/dist-packages (from httpx>=0.24.1->gradio) (2025.4.26)\n",
            "Requirement already satisfied: httpcore==1.* in /usr/local/lib/python3.11/dist-packages (from httpx>=0.24.1->gradio) (1.0.9)\n",
            "Requirement already satisfied: h11>=0.16 in /usr/local/lib/python3.11/dist-packages (from httpcore==1.*->httpx>=0.24.1->gradio) (0.16.0)\n",
            "Requirement already satisfied: filelock in /usr/local/lib/python3.11/dist-packages (from huggingface-hub>=0.28.1->gradio) (3.18.0)\n",
            "Requirement already satisfied: jsonpatch<2.0,>=1.33 in /usr/local/lib/python3.11/dist-packages (from langchain-core<1.0.0,>=0.3.55->langchain) (1.33)\n",
            "Requirement already satisfied: requests-toolbelt<2.0.0,>=1.0.0 in /usr/local/lib/python3.11/dist-packages (from langsmith<0.4,>=0.1.17->langchain) (1.0.0)\n",
            "Requirement already satisfied: zstandard<0.24.0,>=0.23.0 in /usr/local/lib/python3.11/dist-packages (from langsmith<0.4,>=0.1.17->langchain) (0.23.0)\n",
            "Requirement already satisfied: python-dateutil>=2.8.2 in /usr/local/lib/python3.11/dist-packages (from pandas<3.0,>=1.0->gradio) (2.9.0.post0)\n",
            "Requirement already satisfied: pytz>=2020.1 in /usr/local/lib/python3.11/dist-packages (from pandas<3.0,>=1.0->gradio) (2025.2)\n",
            "Requirement already satisfied: tzdata>=2022.7 in /usr/local/lib/python3.11/dist-packages (from pandas<3.0,>=1.0->gradio) (2025.2)\n",
            "Requirement already satisfied: annotated-types>=0.6.0 in /usr/local/lib/python3.11/dist-packages (from pydantic->google-generativeai) (0.7.0)\n",
            "Requirement already satisfied: pydantic-core==2.33.2 in /usr/local/lib/python3.11/dist-packages (from pydantic->google-generativeai) (2.33.2)\n",
            "Requirement already satisfied: typing-inspection>=0.4.0 in /usr/local/lib/python3.11/dist-packages (from pydantic->google-generativeai) (0.4.0)\n",
            "Requirement already satisfied: python-dotenv>=0.21.0 in /usr/local/lib/python3.11/dist-packages (from pydantic-settings<3.0.0,>=2.4.0->langchain_community) (1.1.0)\n",
            "Requirement already satisfied: charset-normalizer<4,>=2 in /usr/local/lib/python3.11/dist-packages (from requests<3,>=2->langchain) (3.4.1)\n",
            "Requirement already satisfied: urllib3<3,>=1.21.1 in /usr/local/lib/python3.11/dist-packages (from requests<3,>=2->langchain) (2.4.0)\n",
            "Requirement already satisfied: greenlet>=1 in /usr/local/lib/python3.11/dist-packages (from SQLAlchemy<3,>=1.4->langchain) (3.2.1)\n",
            "Requirement already satisfied: click>=8.0.0 in /usr/local/lib/python3.11/dist-packages (from typer<1.0,>=0.12->gradio) (8.1.8)\n",
            "Requirement already satisfied: shellingham>=1.3.0 in /usr/local/lib/python3.11/dist-packages (from typer<1.0,>=0.12->gradio) (1.5.4)\n",
            "Requirement already satisfied: rich>=10.11.0 in /usr/local/lib/python3.11/dist-packages (from typer<1.0,>=0.12->gradio) (13.9.4)\n",
            "Requirement already satisfied: httplib2<1.0.0,>=0.19.0 in /usr/local/lib/python3.11/dist-packages (from google-api-python-client->google-generativeai) (0.22.0)\n",
            "Requirement already satisfied: google-auth-httplib2<1.0.0,>=0.2.0 in /usr/local/lib/python3.11/dist-packages (from google-api-python-client->google-generativeai) (0.2.0)\n",
            "Requirement already satisfied: uritemplate<5,>=3.0.1 in /usr/local/lib/python3.11/dist-packages (from google-api-python-client->google-generativeai) (4.1.1)\n",
            "Requirement already satisfied: grpcio<2.0dev,>=1.33.2 in /usr/local/lib/python3.11/dist-packages (from google-api-core[grpc]!=2.0.*,!=2.1.*,!=2.10.*,!=2.2.*,!=2.3.*,!=2.4.*,!=2.5.*,!=2.6.*,!=2.7.*,!=2.8.*,!=2.9.*,<3.0.0dev,>=1.34.1->google-ai-generativelanguage==0.6.15->google-generativeai) (1.71.0)\n",
            "Requirement already satisfied: grpcio-status<2.0.dev0,>=1.33.2 in /usr/local/lib/python3.11/dist-packages (from google-api-core[grpc]!=2.0.*,!=2.1.*,!=2.10.*,!=2.2.*,!=2.3.*,!=2.4.*,!=2.5.*,!=2.6.*,!=2.7.*,!=2.8.*,!=2.9.*,<3.0.0dev,>=1.34.1->google-ai-generativelanguage==0.6.15->google-generativeai) (1.71.0)\n",
            "Requirement already satisfied: pyparsing!=3.0.0,!=3.0.1,!=3.0.2,!=3.0.3,<4,>=2.4.2 in /usr/local/lib/python3.11/dist-packages (from httplib2<1.0.0,>=0.19.0->google-api-python-client->google-generativeai) (3.2.3)\n",
            "Requirement already satisfied: jsonpointer>=1.9 in /usr/local/lib/python3.11/dist-packages (from jsonpatch<2.0,>=1.33->langchain-core<1.0.0,>=0.3.55->langchain) (3.0.0)\n",
            "Requirement already satisfied: pyasn1<0.7.0,>=0.6.1 in /usr/local/lib/python3.11/dist-packages (from pyasn1-modules>=0.2.1->google-auth>=2.15.0->google-generativeai) (0.6.1)\n",
            "Requirement already satisfied: markdown-it-py>=2.2.0 in /usr/local/lib/python3.11/dist-packages (from rich>=10.11.0->typer<1.0,>=0.12->gradio) (3.0.0)\n",
            "Requirement already satisfied: pygments<3.0.0,>=2.13.0 in /usr/local/lib/python3.11/dist-packages (from rich>=10.11.0->typer<1.0,>=0.12->gradio) (2.19.1)\n",
            "Requirement already satisfied: mypy-extensions>=0.3.0 in /usr/local/lib/python3.11/dist-packages (from typing-inspect<1,>=0.4.0->dataclasses-json<0.7,>=0.5.7->langchain_community) (1.1.0)\n",
            "Requirement already satisfied: mdurl~=0.1 in /usr/local/lib/python3.11/dist-packages (from markdown-it-py>=2.2.0->rich>=10.11.0->typer<1.0,>=0.12->gradio) (0.1.2)\n"
          ]
        }
      ]
    },
    {
      "cell_type": "markdown",
      "source": [
        "##🔑 2. API Key Setup - Set the Access Key for Google Gemini\n",
        "\n",
        "In this step, we'll securely configure the **API key** required for accessing **Google Gemini 1.5 Flash**.  \n",
        "We will use **Colab's userdata** for safely storing and retrieving the key."
      ],
      "metadata": {
        "id": "vFyscaHpstL9"
      }
    },
    {
      "cell_type": "markdown",
      "source": [
        "### 🛠️ 2.1 Initialize API Key for Google Gemini\n",
        "\n",
        "To get started, we'll load the **Gemini API key** into the environment variable.  \n",
        "This ensures that the key is securely available for use without hardcoding it directly into the code."
      ],
      "metadata": {
        "id": "ct595yauu8wI"
      }
    },
    {
      "cell_type": "code",
      "source": [
        "# Import necessary library for Colab's userdata storage\n",
        "from google.colab import userdata\n",
        "\n",
        "# Securely retrieve the Gemini API Key from the userdata\n",
        "GEMINI_API_KEY = userdata.get('GEMINI_API_KEY')  # Ensure the key is stored in Colab's userdata\n",
        "\n",
        "# Set the Gemini API key as an environment variable for secure access\n",
        "import os\n",
        "os.environ[\"GOOGLE_API_KEY\"] = GEMINI_API_KEY  # Replace with your own API Key"
      ],
      "metadata": {
        "id": "dRdUwwqls3d2"
      },
      "execution_count": null,
      "outputs": []
    },
    {
      "cell_type": "markdown",
      "source": [
        "##⚙️ 3. Environment Setup - Prepare the Libraries\n",
        "\n",
        "In this section, we'll import all the necessary libraries that will power our translation system. These libraries handle everything from translation tasks to creating a user interface.\n"
      ],
      "metadata": {
        "id": "OFk3dCjXs48X"
      }
    },
    {
      "cell_type": "markdown",
      "source": [
        "###📚 3.1 Import Libraries\n",
        "\n",
        "We will import the following essential libraries:\n",
        "\n",
        "- **Gradio** (`gr`) for building the user interface\n",
        "- **LangChain** and **GoogleGenerativeAI** to interface with Google's Gemini API for translations\n",
        "- **LangChain Prompt Templates** for generating dynamic prompts\n",
        "- **LangChain Core** for running language models and processing outputs\n",
        "- **Langdetect** for detecting the language of input text\n",
        "- **JSON** for handling structured data exchange"
      ],
      "metadata": {
        "id": "8HRm-XX6vH_e"
      }
    },
    {
      "cell_type": "code",
      "source": [
        "# Import Gradio for building the interface\n",
        "import gradio as gr\n",
        "\n",
        "# Import GoogleGenerativeAI from LangChain for translation functionality\n",
        "from langchain_google_genai import GoogleGenerativeAI\n",
        "\n",
        "# Import LangChain's PromptTemplate for creating structured prompts\n",
        "from langchain.prompts import PromptTemplate\n",
        "\n",
        "# Import core components from LangChain\n",
        "from langchain_core.runnables import RunnablePassthrough\n",
        "from langchain_core.output_parsers import StrOutputParser\n",
        "\n",
        "# Import langdetect for language detection\n",
        "from langdetect import detect\n",
        "\n",
        "# Import JSON for handling structured data\n",
        "import json"
      ],
      "metadata": {
        "id": "Uv1rdyous-m2"
      },
      "execution_count": null,
      "outputs": []
    },
    {
      "cell_type": "markdown",
      "source": [
        "###🧠 3.2 Initialize the Language Model - Set up Google Gemini\n",
        "\n",
        "In this step, we will initialize the **GoogleGenerativeAI model** from LangChain.  \n",
        "This model will be used to handle the language translation tasks, utilizing **Gemini 1.5 Flash** for fast and accurate translations.\n",
        "\n",
        "We configure the model with the following settings:\n",
        "- **Model**: `\"gemini-1.5-flash-latest\"` (latest version of Gemini 1.5)\n",
        "- **Temperature**: `0.7` (controls the randomness of the generated responses; 0.7 provides a balanced output)\n"
      ],
      "metadata": {
        "id": "WqX1no4jvRUH"
      }
    },
    {
      "cell_type": "code",
      "source": [
        "# Initialize the GoogleGenerativeAI model from LangChain for translation tasks\n",
        "llm = GoogleGenerativeAI(model=\"gemini-1.5-flash-latest\", temperature=0.7)"
      ],
      "metadata": {
        "id": "5N7YQi7jvZ9F"
      },
      "execution_count": null,
      "outputs": []
    },
    {
      "cell_type": "markdown",
      "source": [
        "## 🌍 4. Language Detection & Translation - Detect Language and Translate\n",
        "\n",
        "In this section, we'll focus on creating a dynamic translation system.  \n",
        "We'll define a **dynamic prompt** that adapts based on the language input and the desired translation language."
      ],
      "metadata": {
        "id": "SiXBUeozs_0f"
      }
    },
    {
      "cell_type": "markdown",
      "source": [
        "###📝 4.1 Create a Dynamic Translation Prompt - Build a Flexible Template\n",
        "\n",
        "Here, we will create a **multi-language prompt template** to handle dynamic translation tasks.  \n",
        "The prompt will be structured to take any input text and translate it into the specified language.\n",
        "\n",
        "The template format is:\n",
        "- **Input variables**: `[\"text\", \"language\"]`  \n",
        "- **Template**: \"Translate the following sentence to {language}:\\n\\n{text}\\n\\nThe translation is:\"\n"
      ],
      "metadata": {
        "id": "eXtHyaAUvgKw"
      }
    },
    {
      "cell_type": "code",
      "source": [
        "# Create a dynamic prompt template for translation tasks\n",
        "prompt = PromptTemplate(\n",
        "    input_variables=[\"text\", \"language\"],\n",
        "    template=\"\"\"\n",
        "You are a professional translator.\n",
        "\n",
        "Translate the following sentence into {language}, and then briefly explain the meaning of the sentence in a human-friendly way.\n",
        "\n",
        "Sentence:\n",
        "{text}\n",
        "\n",
        "Output format:\n",
        "- Translated Sentence: <translated_sentence>\n",
        "- Explanation: <short explanation in target language>\n",
        "\"\"\"\n",
        ")"
      ],
      "metadata": {
        "id": "ORQF_cvzvqeT"
      },
      "execution_count": null,
      "outputs": []
    },
    {
      "cell_type": "markdown",
      "source": [
        "###🔗 4.2 Build LangChain Pipeline - Define the Translation Process\n",
        "\n",
        "In this step, we'll define the **LangChain pipeline** that will orchestrate the translation process.  \n",
        "The pipeline will handle the input text, target language, and translation request, passing through each component seamlessly.\n",
        "\n",
        "The pipeline includes:\n",
        "1. **Input text** and **language** are passed through **RunnablePassthrough** components.\n",
        "2. The **prompt template** is applied to create a dynamic translation query.\n",
        "3. The **Google Gemini model** (LLM) processes the prompt and generates the translation.\n",
        "4. The **output** is parsed into a readable format using **StrOutputParser**."
      ],
      "metadata": {
        "id": "Xy56mzGxvrZf"
      }
    },
    {
      "cell_type": "code",
      "source": [
        "# Build the LangChain pipeline for translation tasks\n",
        "chain = (\n",
        "    {\"text\": RunnablePassthrough(), \"language\": RunnablePassthrough()}  # Input handlers for text and language\n",
        "    | prompt  # Apply the translation prompt\n",
        "    | llm  # Generate translation with the language model\n",
        "    | StrOutputParser()  # Parse and format the output translation\n",
        ")"
      ],
      "metadata": {
        "id": "BliShtRRv1vB"
      },
      "execution_count": null,
      "outputs": []
    },
    {
      "cell_type": "markdown",
      "source": [
        "### 🌐 4.3 Language Detection Function - Automatically Detect the Source Language\n",
        "\n",
        "In this step, we will implement a function to **automatically detect the language** of the input text using the `langdetect` library.  \n",
        "This function will help identify the source language before translating it to the target language.\n",
        "\n",
        "The function will:\n",
        "1. Take the input **text** as a parameter.\n",
        "2. Use the `langdetect.detect()` method to identify the language.\n",
        "3. Handle any errors and return the exception message if detection fails."
      ],
      "metadata": {
        "id": "HfQ0L0kiv3qd"
      }
    },
    {
      "cell_type": "code",
      "source": [
        "# Function to detect the language of the input text\n",
        "def detect_language(text):\n",
        "    try:\n",
        "        # Automatically detect the language of the input text\n",
        "        return detect(text)\n",
        "    except Exception as e:\n",
        "        # Return error message if language detection fails\n",
        "        return str(e)"
      ],
      "metadata": {
        "id": "65rxSz3Av6nD"
      },
      "execution_count": null,
      "outputs": []
    },
    {
      "cell_type": "markdown",
      "source": [
        "### 📝 4.4 Save Translation History - Store Translation Data\n",
        "\n",
        "In this step, we will create a function to **save the translation history**.  \n",
        "The history will be stored in a **JSON file** to keep a record of the translations, including the original text, target language, and translation output.\n",
        "\n",
        "The function will:\n",
        "1. Create a dictionary to hold the **text**, **language**, and **translation**.\n",
        "2. Append this data to a JSON file (`translation_history.json`) for future reference.\n",
        "3. Each entry will be saved in a new line for easy parsing."
      ],
      "metadata": {
        "id": "y4tmMre9v9gf"
      }
    },
    {
      "cell_type": "code",
      "source": [
        "# Function to save the translation history to a JSON file\n",
        "def save_translation_history(text, language, translation):\n",
        "    # Create a dictionary with the translation details\n",
        "    history = {\"text\": text, \"language\": language, \"translation\": translation}\n",
        "\n",
        "    # Open the history file in append mode and store the translation data\n",
        "    with open('translation_history.json', 'a') as file:\n",
        "        json.dump(history, file)  # Save the data as a JSON object\n",
        "        file.write(\"\\n\")  # Ensure each entry is on a new line"
      ],
      "metadata": {
        "id": "MLFj23E9tVRN"
      },
      "execution_count": null,
      "outputs": []
    },
    {
      "cell_type": "markdown",
      "source": [
        "##🎨 5. Building the UI with Gradio - Create the Translation Interface\n",
        "\n",
        "In this section, we will define the **main translation function** that integrates the input text, language detection, and translation process.  \n",
        "The function will:\n",
        "1. Accept **text** and **target language** as input.\n",
        "2. Automatically detect the **source language** of the text.\n",
        "3. Pass the text and target language through the **LangChain pipeline** to generate the translation.\n",
        "4. Save the translation to the **history** for future reference.\n",
        "5. Return the **source language** and **translated text** as output."
      ],
      "metadata": {
        "id": "Gau7-DdTtYfN"
      }
    },
    {
      "cell_type": "markdown",
      "source": [
        "###🧑‍💻 5.1 Define the Translation Function - Main Logic"
      ],
      "metadata": {
        "id": "E4RPrcnLwGR0"
      }
    },
    {
      "cell_type": "code",
      "source": [
        "# Main translation function that integrates text input, language detection, and translation chain\n",
        "def translate_text(text, language):\n",
        "    # Check if both text and target language are provided\n",
        "    if not text or not language:\n",
        "        return \"Both text and target language must be provided.\"\n",
        "\n",
        "    try:\n",
        "        # Automatically detect the source language of the input text\n",
        "        source_language = detect_language(text)\n",
        "\n",
        "        # Prepare input data for LangChain pipeline\n",
        "        input_data = {\"text\": text, \"language\": language}\n",
        "\n",
        "        # Invoke the translation chain to get the translated text\n",
        "        result = chain.invoke(input_data)\n",
        "\n",
        "        # Save the translation history to a JSON file\n",
        "        save_translation_history(text, language, result)\n",
        "\n",
        "        # Return source language and translated result\n",
        "        return f\"Source Language: {source_language}\\n\\nTranslated Text:\\n{result}\"\n",
        "\n",
        "    except Exception as e:\n",
        "        # Return error message if any exception occurs\n",
        "        return f\"An error occurred: {str(e)}\""
      ],
      "metadata": {
        "id": "jyg11FGhwKaw"
      },
      "execution_count": null,
      "outputs": []
    },
    {
      "cell_type": "markdown",
      "source": [
        "###🎨 5.2 Define Gradio Interface - Create the UI for Translation Tool\n",
        "\n",
        "In this step, we will create the **Gradio UI** for the translation tool.  \n",
        "The user interface will include:\n",
        "1. **Text input** for users to enter sentences in any language.\n",
        "2. A **dropdown menu** for selecting the **target language**.\n",
        "3. The translation result will be displayed in a **textbox** output.\n",
        "\n",
        "The interface is designed to be intuitive and easy to use, allowing users to input text, select the language, and view the translation in real-time.\n"
      ],
      "metadata": {
        "id": "dQ6O1I8HwPKn"
      }
    },
    {
      "cell_type": "code",
      "source": [
        "# List of supported languages for dropdown menu\n",
        "languages = [\n",
        "    \"English\", \"Indonesian\", \"Japanese\", \"Arabic\",\n",
        "    \"French\", \"Spanish\", \"German\", \"Other (type manually)\"\n",
        "]\n",
        "\n",
        "# Define the Gradio interface using Blocks for better layout customization\n",
        "with gr.Blocks() as demo:\n",
        "    # Main title and short description\n",
        "    gr.Markdown(\"# 🌍 Multilingual Sentence Translator\")\n",
        "    gr.Markdown(\n",
        "        \"\"\"\n",
        "        This tool uses the **Gemini 1.5 Flash** model to translate sentences into different languages.\n",
        "        It supports **automatic language detection** and also allows users to manually specify a target language\n",
        "        that is not listed in the dropdown menu.\n",
        "        \"\"\"\n",
        "    )\n",
        "\n",
        "    # Input section: text to translate\n",
        "    text_input = gr.Textbox(\n",
        "        label=\"Enter sentence (any language)\",\n",
        "        lines=2,\n",
        "        placeholder=\"Type a sentence to translate...\"\n",
        "    )\n",
        "\n",
        "    # Language selection row: dropdown + optional custom input\n",
        "    with gr.Row():\n",
        "        dropdown_lang = gr.Dropdown(\n",
        "            choices=languages,\n",
        "            label=\"Select Target Language\",\n",
        "            value=\"English\"\n",
        "        )\n",
        "        custom_lang = gr.Textbox(\n",
        "            label=\"Or enter custom language\",\n",
        "            placeholder=\"e.g., Korean, Italian, Thai\",\n",
        "            interactive=False  # Disable by default\n",
        "        )\n",
        "\n",
        "    # Button to translate and area to show the result\n",
        "    translate_btn = gr.Button(\"Translate\")\n",
        "    output_box = gr.Textbox(\n",
        "        label=\"Translation Result\",\n",
        "        lines=6\n",
        "    )\n",
        "\n",
        "    # Function to control whether custom_lang is enabled\n",
        "    def toggle_custom_input(choice):\n",
        "        if choice == \"Other (type manually)\":\n",
        "            return gr.Textbox(interactive=True)\n",
        "        else:\n",
        "            return gr.Textbox(value=\"\", interactive=False)\n",
        "\n",
        "    # Translation logic\n",
        "    def handle_translate(text, dropdown, custom):\n",
        "        target_language = custom if dropdown == \"Other (type manually)\" else dropdown\n",
        "        return translate_text(text, target_language)\n",
        "\n",
        "    # Link dropdown changes to enabling/disabling the textbox\n",
        "    dropdown_lang.change(\n",
        "        fn=toggle_custom_input,\n",
        "        inputs=dropdown_lang,\n",
        "        outputs=custom_lang\n",
        "    )\n",
        "\n",
        "    # Link translate button to translation logic\n",
        "    translate_btn.click(\n",
        "        fn=handle_translate,\n",
        "        inputs=[text_input, dropdown_lang, custom_lang],\n",
        "        outputs=output_box\n",
        "    )"
      ],
      "metadata": {
        "id": "qUSuvC1jj3CW"
      },
      "execution_count": null,
      "outputs": []
    },
    {
      "cell_type": "markdown",
      "source": [
        "##🚀 6. Running the Application - Launch the Translator UI\n",
        "\n",
        "Now that we have built the translation tool and its user interface, it's time to run the application!  \n",
        "To launch the app and interact with the **language translator**, simply execute the cell below. Gradio will start the UI, allowing users to input text, select a target language, and view the translated result in real-time.\n"
      ],
      "metadata": {
        "id": "9e0F5dfuwX4-"
      }
    },
    {
      "cell_type": "code",
      "source": [
        "# Launch the Gradio interface\n",
        "demo.launch()"
      ],
      "metadata": {
        "id": "-rJLtky1wVk1",
        "colab": {
          "base_uri": "https://localhost:8080/",
          "height": 646
        },
        "outputId": "b4615c27-7a26-4c35-b481-05e08fae2bf0"
      },
      "execution_count": null,
      "outputs": [
        {
          "output_type": "stream",
          "name": "stdout",
          "text": [
            "It looks like you are running Gradio on a hosted a Jupyter notebook. For the Gradio app to work, sharing must be enabled. Automatically setting `share=True` (you can turn this off by setting `share=False` in `launch()` explicitly).\n",
            "\n",
            "Colab notebook detected. To show errors in colab notebook, set debug=True in launch()\n",
            "* Running on public URL: https://2a3ca416deccd48f27.gradio.live\n",
            "\n",
            "This share link expires in 1 week. For free permanent hosting and GPU upgrades, run `gradio deploy` from the terminal in the working directory to deploy to Hugging Face Spaces (https://huggingface.co/spaces)\n"
          ]
        },
        {
          "output_type": "display_data",
          "data": {
            "text/plain": [
              "<IPython.core.display.HTML object>"
            ],
            "text/html": [
              "<div><iframe src=\"https://2a3ca416deccd48f27.gradio.live\" width=\"100%\" height=\"500\" allow=\"autoplay; camera; microphone; clipboard-read; clipboard-write;\" frameborder=\"0\" allowfullscreen></iframe></div>"
            ]
          },
          "metadata": {}
        },
        {
          "output_type": "execute_result",
          "data": {
            "text/plain": []
          },
          "metadata": {},
          "execution_count": 33
        }
      ]
    },
    {
      "cell_type": "markdown",
      "source": [
        "## 🏁 7. Conclusion - Recap of the Translation Tool\n",
        "\n",
        "This project showcases the integration of **Google Gemini 1.5 Flash**, **LangChain**, and **Gradio** to build a powerful and interactive **multi-language translator**.  \n",
        "The system provides several key features:\n",
        "1. **Automatic source language detection** to identify the language of the input text.\n",
        "2. **Real-time translation** to convert the text into the target language.\n",
        "3. **Translation history saving** to keep track of past translations for future reference.\n",
        "\n",
        "The **Gradio UI** provides an intuitive and user-friendly interface, making the entire translation process smooth and efficient.\n",
        "\n",
        "💡 **Key Takeaways:**  \n",
        "- **Google Gemini 1.5 Flash** delivers accurate and fast translations.\n",
        "- **LangChain** handles the orchestration of the translation pipeline.\n",
        "- **Gradio** makes it easy to create interactive UIs for machine learning applications.\n",
        "\n",
        "This system demonstrates how to build a complete, end-to-end translation tool, combining cutting-edge technologies to create a seamless experience for users."
      ],
      "metadata": {
        "id": "rVTQ_Y7EuVpK"
      }
    }
  ],
  "metadata": {
    "accelerator": "GPU",
    "colab": {
      "gpuType": "T4",
      "provenance": [],
      "toc_visible": true
    },
    "kernelspec": {
      "display_name": "Python 3",
      "name": "python3"
    },
    "language_info": {
      "name": "python"
    }
  },
  "nbformat": 4,
  "nbformat_minor": 0
}